{
 "cells": [
  {
   "cell_type": "code",
   "execution_count": 1,
   "id": "7dcd195d",
   "metadata": {},
   "outputs": [],
   "source": [
    "import numpy as np"
   ]
  },
  {
   "cell_type": "code",
   "execution_count": 2,
   "id": "f5c2be9e",
   "metadata": {},
   "outputs": [],
   "source": [
    "m = np.random.randn(1000, 1000)"
   ]
  },
  {
   "cell_type": "code",
   "execution_count": 3,
   "id": "341b74e3",
   "metadata": {},
   "outputs": [
    {
     "name": "stdout",
     "output_type": "stream",
     "text": [
      "CPU times: user 231 ms, sys: 3.28 ms, total: 234 ms\n",
      "Wall time: 42.3 ms\n"
     ]
    }
   ],
   "source": [
    "%%time\n",
    "np.dot(m, m);"
   ]
  },
  {
   "cell_type": "code",
   "execution_count": 7,
   "id": "a0312c7a",
   "metadata": {},
   "outputs": [],
   "source": [
    "from numba import njit, prange\n",
    "import numba as nb\n",
    "\n",
    "@njit(parallel=True)\n",
    "def dot_py(A, B):\n",
    "    m, n = A.shape\n",
    "    p = B.shape[1]\n",
    "    C = np.zeros((m,p))\n",
    "    \n",
    "    for i in prange(0,m):\n",
    "        for j in range(0,i):\n",
    "            tmp = 0\n",
    "            for k in range(0,n):\n",
    "                tmp += A[i,k]*B[k,j] \n",
    "            C[i,j] = tmp\n",
    "    return C"
   ]
  },
  {
   "cell_type": "code",
   "execution_count": 9,
   "id": "2628f803",
   "metadata": {},
   "outputs": [
    {
     "name": "stdout",
     "output_type": "stream",
     "text": [
      "CPU times: user 667 ms, sys: 6.01 ms, total: 673 ms\n",
      "Wall time: 164 ms\n"
     ]
    }
   ],
   "source": [
    "%%time\n",
    "dot_py(m,m);"
   ]
  },
  {
   "cell_type": "code",
   "execution_count": 92,
   "id": "ea79b5e9",
   "metadata": {},
   "outputs": [
    {
     "name": "stdout",
     "output_type": "stream",
     "text": [
      "3 1 0\n",
      "3 1 0\n",
      "None\n"
     ]
    }
   ],
   "source": [
    "import numbers\n",
    "import math\n",
    "\n",
    "class UpperTriangular2DMatrix:\n",
    "    \n",
    "    def __init__(self, values):\n",
    "        # len(values) = 1 / 2 * N * (N + 1)        \n",
    "        N = 1 / 2 * (math.sqrt(1 + 8 * len(values)) - 1)\n",
    "        if not N.is_integer():\n",
    "            raise ValueError(f\"The number of values, len(values)={len(values)}, do not represent an upper triangular matrix of a square matrix.\")\n",
    "        self.n_rows = self.n_cols = int(N)\n",
    "        self.values = values\n",
    "    \n",
    "    @property\n",
    "    def shape(self):\n",
    "        return self.n_rows, self.n_cols\n",
    "    \n",
    "    def __xy_to_index(self, i_row, i_col):\n",
    "        if i_row > i_col:\n",
    "            i_row, i_col = i_col, i_row\n",
    "        index = int(i_row / 2 * (2 * self.n_cols - i_row + 1) + (i_col - i_row))\n",
    "        return index\n",
    "    \n",
    "    def __getitem_single_element(self, i_row, i_col):\n",
    "        if i_row > i_col:\n",
    "            i_row, i_col = i_col, i_row\n",
    "        index = self.__xy_to_index(i_row, i_col)\n",
    "        value = self.values[index]\n",
    "        return value\n",
    "    \n",
    "    def __getitem_array(self, i_row, slice_col):\n",
    "        if slice_col.start >= i_row:\n",
    "            index_start = self.__xy_to_index(i_row, slice_col.start)\n",
    "            index_stop = index_start + (slice_col.stop - slice_col.start)\n",
    "            array = self.values[index_start: index_stop]\n",
    "        else:\n",
    "            lt_start = slice_col.start\n",
    "            lt_stop = i_row\n",
    "            \n",
    "            \n",
    "\n",
    "    def __getitem__(self, indices):\n",
    "        if isinstance(indices, int):\n",
    "            row = indices\n",
    "            col = slice(0, self.n_cols)\n",
    "            obj_type = \"row\"\n",
    "            value = self.__getitem_array(row, col)\n",
    "        elif isinstance(indices, tuple):\n",
    "            row, col = indices\n",
    "            if isinstance(row, int) and isinstance(col, int):\n",
    "                obj_type = \"single_element\"\n",
    "                value = self.__getitem_single_element(row, col)\n",
    "            elif isinstance(row, int) and isinstance(col, slice):\n",
    "                obj_type = \"row\"\n",
    "                value = self.__getitem_array(row, col)\n",
    "            elif isinstance(row, slice) and isinstance(col, int):\n",
    "                obj_type = \"column\"\n",
    "            elif isinstance(row, slice) and isinstance(col, slice):\n",
    "                obj_type = \"2d_array\"\n",
    "                \n",
    "        return value\n",
    "    \n",
    "    \n",
    "values = [[0, 1, 2, 3],\n",
    "             [0, 1 ,2],\n",
    "                [0, 1], \n",
    "                   [0]]\n",
    "values = [x for row in values for x in row]\n",
    "m = UpperTriangular2DMatrix(values)\n",
    "print(m[0, 3], m[1, 2], m[3, 3])\n",
    "print(m[3, 0], m[2, 1], m[3, 3])\n",
    "print(m[2])\n"
   ]
  },
  {
   "cell_type": "code",
   "execution_count": null,
   "id": "ee27e2a8",
   "metadata": {},
   "outputs": [],
   "source": []
  }
 ],
 "metadata": {
  "kernelspec": {
   "display_name": "Python 3 (ipykernel)",
   "language": "python",
   "name": "python3"
  },
  "language_info": {
   "codemirror_mode": {
    "name": "ipython",
    "version": 3
   },
   "file_extension": ".py",
   "mimetype": "text/x-python",
   "name": "python",
   "nbconvert_exporter": "python",
   "pygments_lexer": "ipython3",
   "version": "3.9.16"
  }
 },
 "nbformat": 4,
 "nbformat_minor": 5
}
